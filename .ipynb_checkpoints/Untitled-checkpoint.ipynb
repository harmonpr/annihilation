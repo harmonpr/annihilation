{
 "cells": [
  {
   "cell_type": "code",
   "execution_count": 1,
   "metadata": {},
   "outputs": [],
   "source": [
    "import numpy as np\n",
    "import matplotlib.pyplot as plt\n",
    "from matplotlib.lines import Line2D\n",
    "import random\n",
    "import time"
   ]
  },
  {
   "cell_type": "code",
   "execution_count": 261,
   "metadata": {},
   "outputs": [],
   "source": [
    "# initialization\n",
    "# tuneable parameters\n",
    "n = 5               # the number of particle\n",
    "T = 1                # the simulation time\n",
    "d = 0.00001          # the cutoff distance before annihiliation\n",
    "dt_0 = 0.001         # the initial time step \n",
    "k = 0                # first step\n",
    "dt = np.array([dt_0])\n",
    "tk = np.array([0])\n",
    "f = np.zeros((1, n))\n",
    "d_min = np.array([])\n",
    "d_plus = np.array([])"
   ]
  },
  {
   "cell_type": "code",
   "execution_count": 262,
   "metadata": {},
   "outputs": [],
   "source": [
    "random.seed(3)\n",
    "x = np.array([[random.uniform(0,1) for i in range(n)]])\n",
    "b = np.array([[random.choice([1, -1]) for i in range(n)]])\n",
    "x.sort()"
   ]
  },
  {
   "cell_type": "code",
   "execution_count": 263,
   "metadata": {},
   "outputs": [],
   "source": [
    "def distance_each_particles(n, x):\n",
    "    r_ij = np.array([x]).T - x + np.eye(n)\n",
    "    return r_ij\n",
    "\n",
    "def annihilation_rule(n, b, x):\n",
    "    b_i = b.copy()\n",
    "    for i in range(n-1):\n",
    "        if b_i[i] != 0:\n",
    "            j = i+1\n",
    "            while(j <= n-1) and (b_i[j] == 0):\n",
    "                j += 1\n",
    "            if j <= n-1 and (b_i[i]*b_i[j] == -1) and (np.abs(x[i]-x[j]) <= d):\n",
    "                b_i[i] = 0\n",
    "                b_i[j] = 0\n",
    "                i = j+1\n",
    "            else:\n",
    "                i = j\n",
    "    return b_i\n",
    "\n",
    "def force(n, b, r):\n",
    "    b_ij = np.array([b]).T * b\n",
    "    x_ij = (1/r) - np.eye(n)\n",
    "    f_ij = ((x_ij*b_ij).sum(axis=1)) / n\n",
    "    return f_ij\n",
    "\n",
    "def x_b_f_calculation(x, b, f):\n",
    "    id_nonZero = np.array(np.nonzero(b))\n",
    "    x_cl = x[id_nonZero]\n",
    "    b_cl = b[id_nonZero]\n",
    "    f_cl = f[id_nonZero]\n",
    "    return x_cl, b_cl, f_cl\n",
    "\n",
    "def d_min_plus(x, b, d_min, d_plus):\n",
    "    xd_min = np.ones(len(b[0]))\n",
    "    xd_plus = np.ones(len(b[0]))\n",
    "    for i in range(len(b[0]) - 1):\n",
    "        if (b[0,i] + b[0,i+1]) == -2:\n",
    "            xd_m = np.abs(x[0,i] - x[0,i+1])\n",
    "            xd_min[i] = xd_m\n",
    "        if (b[0,i] + b[0,i+1]) == 2:\n",
    "            xd_p = np.abs(x[0,i] - x[0,i+1])\n",
    "            xd_plus[i] = xd_p    \n",
    "    if not xd_min.tolist():\n",
    "        xd_min = d_min\n",
    "    if not xd_plus.tolist():\n",
    "        xd_plus = d_plus\n",
    "    return xd_min, xd_plus\n",
    "\n",
    "def first_stability_condition(x, b, f):\n",
    "    fi_1 = np.zeros(len(f[0]))\n",
    "    xi_1 = np.zeros(len(f[0]))\n",
    "    for i in range(len(b[0]) - 1):\n",
    "        if (b[0,i] * b[0,i+1]) == -1:\n",
    "            fi_1[i] = f[0,i] - f[0,i+1]\n",
    "            xi_1[i] = x[0,i+1] - x[0,i]\n",
    "    h_1 = (xi_1[fi_1 > 0]) / fi_1[fi_1 > 0]\n",
    "    return h_1\n",
    "\n",
    "def second_stability_condition(x, b, f, d_plus):\n",
    "    fi_2 = np.zeros(len(f[0]))\n",
    "    xi_2 = np.zeros(len(f[0]))\n",
    "    for i in range(len(b[0]) - 1):\n",
    "        if (b[0,i] * b[0,i+1]) == 2:\n",
    "            fi_2[i] = f[0,i+1] - f[0,i]\n",
    "            xi_2[i] = x[0,i+1] - x[0,i]\n",
    "    h_2 = (d_plus - xi_2[fi_2 < 0]) / fi_2[fi_2 < 0] \n",
    "    return h_2\n",
    "\n",
    "def third_stability_condition(x, b, f, d_min):\n",
    "    fi_3 = np.zeros(len(f[0]))\n",
    "    xi_3 = np.zeros(len(f[0]))\n",
    "    for i in range(len(b[0]) - 1):\n",
    "        if (b[0,i] * b[0,i+1]) == -2:\n",
    "            fi_3[i] = f[0,i+1] - f[0,i]\n",
    "            xi_3[i] = x[0,i+1] - x[0,i]\n",
    "    h_3 = (d_min - xi_3[fi_3 < 0]) / fi_3[fi_3 < 0] \n",
    "    return h_3"
   ]
  },
  {
   "cell_type": "code",
   "execution_count": 264,
   "metadata": {},
   "outputs": [],
   "source": [
    "while tk[k] < T:\n",
    "    # the distance between each particles in a matrix form\n",
    "    r = distance_each_particles(n, x[k])\n",
    "    \n",
    "    # the annihilation algorithm\n",
    "    b_ann = annihilation_rule(n, b[k], x[k])\n",
    "    b = np.concatenate((b, np.array([b_ann])))\n",
    "    \n",
    "    # the calculation of the force term\n",
    "    f_ann = force(n, b[k+1], r)\n",
    "    f = np.concatenate((f, np.array([f_ann])))\n",
    "    \n",
    "    # update the particle system, eliminate zero charge particle \n",
    "    # we use the copy of x, b, and f to the calculation below\n",
    "    x_cal, b_cal, f_cal = x_b_f_calculation(x[k], b[k], f[k])\n",
    "    \n",
    "    # calculate d^{-} and d^{+}\n",
    "    xdmin, xdplus = d_min_plus(x_cal, b_cal, d_min, d_plus)\n",
    "    d_min = np.concatenate((d_min, np.array([xdmin.min()])))\n",
    "    d_plus = np.concatenate((d_plus, np.array([xdplus.min()])))\n",
    "    \n",
    "    # stability condition\n",
    "    h_1 = first_stability_condition(x_cal, b_cal, f_cal)\n",
    "    h_2 = second_stability_condition(x_cal, b_cal, f_cal, d_plus)\n",
    "    h_3 = third_stability_condition(x_cal, b_cal, f_cal, d_min)\n",
    "    h = 0.5 * np.concatenate((h_1, h_2, h_3, 2*np.array([dt_0])))\n",
    "    # the explicit Euler method\n",
    "    \n",
    "    tk = np.concatenate([tk, np.array([tk[k]+1])])\n",
    "    k += 1"
   ]
  },
  {
   "cell_type": "code",
   "execution_count": 267,
   "metadata": {},
   "outputs": [
    {
     "data": {
      "text/plain": [
       "array([], dtype=float64)"
      ]
     },
     "execution_count": 267,
     "metadata": {},
     "output_type": "execute_result"
    }
   ],
   "source": [
    "h_3"
   ]
  },
  {
   "cell_type": "code",
   "execution_count": 115,
   "metadata": {},
   "outputs": [],
   "source": [
    "tk = np.concatenate([tk, np.array([tk[k]+0.2])])"
   ]
  },
  {
   "cell_type": "code",
   "execution_count": 199,
   "metadata": {},
   "outputs": [
    {
     "data": {
      "text/plain": [
       "array([[0, 1, 2, 3, 4]])"
      ]
     },
     "execution_count": 199,
     "metadata": {},
     "output_type": "execute_result"
    }
   ],
   "source": [
    "np.array(np.nonzero(b[0]))"
   ]
  },
  {
   "cell_type": "code",
   "execution_count": 231,
   "metadata": {},
   "outputs": [
    {
     "data": {
      "text/plain": [
       "array([1., 1., 1., 1.])"
      ]
     },
     "execution_count": 231,
     "metadata": {},
     "output_type": "execute_result"
    }
   ],
   "source": [
    "np.ones(len(b_cal[0]))"
   ]
  }
 ],
 "metadata": {
  "kernelspec": {
   "display_name": "Python 3",
   "language": "python",
   "name": "python3"
  },
  "language_info": {
   "codemirror_mode": {
    "name": "ipython",
    "version": 3
   },
   "file_extension": ".py",
   "mimetype": "text/x-python",
   "name": "python",
   "nbconvert_exporter": "python",
   "pygments_lexer": "ipython3",
   "version": "3.8.5"
  }
 },
 "nbformat": 4,
 "nbformat_minor": 4
}
