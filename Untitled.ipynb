{
 "cells": [
  {
   "cell_type": "code",
   "execution_count": 1,
   "metadata": {},
   "outputs": [],
   "source": [
    "import numpy as np\n",
    "import matplotlib.pyplot as plt\n",
    "from matplotlib.lines import Line2D\n",
    "import random\n",
    "import time"
   ]
  },
  {
   "cell_type": "code",
   "execution_count": 175,
   "metadata": {},
   "outputs": [],
   "source": [
    "# initialization\n",
    "# tuneable parameters\n",
    "n = 5               # the number of particle\n",
    "T = 1                # the simulation time\n",
    "d = 0.00001          # the cutoff distance before annihiliation\n",
    "dt_0 = 0.001         # the initial time step \n",
    "k = 0                # first step\n",
    "dt = np.array([dt_0])\n",
    "tk = np.array([0])\n",
    "f = np.zeros((1, n))\n",
    "d_min = np.array([])\n",
    "d_plus = np.array([])"
   ]
  },
  {
   "cell_type": "code",
   "execution_count": 176,
   "metadata": {},
   "outputs": [],
   "source": [
    "random.seed(3)\n",
    "x = np.array([[random.uniform(0,1) for i in range(n)]])\n",
    "b = np.array([[random.choice([1, -1]) for i in range(n)]])\n",
    "x.sort()"
   ]
  },
  {
   "cell_type": "code",
   "execution_count": 167,
   "metadata": {},
   "outputs": [],
   "source": [
    "def distance_each_particles(n, x):\n",
    "    r_ij = np.array([x]).T - x + np.eye(n)\n",
    "    return r_ij\n",
    "\n",
    "def annihilation_rule(n, b, x):\n",
    "    b_i = b.copy()\n",
    "    for i in range(n-1):\n",
    "        if b_i[i] != 0:\n",
    "            j = i+1\n",
    "            while(j <= n-1) and (b_i[j] == 0):\n",
    "                j += 1\n",
    "            if j <= n-1 and (b_i[i]*b_i[j] == -1) and (np.abs(x[i]-x[j]) <= d):\n",
    "                b_i[i] = 0\n",
    "                b_i[j] = 0\n",
    "                i = j+1\n",
    "            else:\n",
    "                i = j\n",
    "    return b_i\n",
    "\n",
    "def force(n, b, r):\n",
    "    b_ij = np.array([b]).T * b\n",
    "    x_ij = (1/r) - np.eye(n)\n",
    "    f_ij = ((x_ij*b_ij).sum(axis=1)) / n\n",
    "    return f_ij"
   ]
  },
  {
   "cell_type": "code",
   "execution_count": 177,
   "metadata": {},
   "outputs": [],
   "source": [
    "while tk[k] < T:\n",
    "    # the distance between each particles in a matrix form\n",
    "    r = distance_each_particles(n, x[k])\n",
    "    \n",
    "    # the annihilation algorithm\n",
    "    b_ann = annihilation_rule(n, b[k], x[k])\n",
    "    b = np.concatenate((b, np.array([b_ann])))\n",
    "    \n",
    "    # the calculation of the force term\n",
    "    f_ann = force(n, b[k+1], r)\n",
    "    f = np.concatenate((f, np.array([f_ann])))\n",
    "    \n",
    "    # update the particle charges\n",
    "    \n",
    "    \n",
    "    # calculate d^{-} and d^{+}\n",
    "    \n",
    "    # stability condition\n",
    "    \n",
    "    # the explicit Euler method\n",
    "    \n",
    "    tk = np.concatenate([tk, np.array([tk[k]+1])])\n",
    "    k += 1"
   ]
  },
  {
   "cell_type": "code",
   "execution_count": 183,
   "metadata": {},
   "outputs": [
    {
     "data": {
      "text/plain": [
       "array([ 1,  1, -1, -1,  1])"
      ]
     },
     "execution_count": 183,
     "metadata": {},
     "output_type": "execute_result"
    }
   ],
   "source": []
  },
  {
   "cell_type": "code",
   "execution_count": 115,
   "metadata": {},
   "outputs": [],
   "source": [
    "tk = np.concatenate([tk, np.array([tk[k]+0.2])])"
   ]
  },
  {
   "cell_type": "code",
   "execution_count": 116,
   "metadata": {},
   "outputs": [
    {
     "data": {
      "text/plain": [
       "array([2. , 2. , 2. , 2. , 3. , 3. , 2.2, 2.2])"
      ]
     },
     "execution_count": 116,
     "metadata": {},
     "output_type": "execute_result"
    }
   ],
   "source": [
    "tk"
   ]
  }
 ],
 "metadata": {
  "kernelspec": {
   "display_name": "Python 3",
   "language": "python",
   "name": "python3"
  },
  "language_info": {
   "codemirror_mode": {
    "name": "ipython",
    "version": 3
   },
   "file_extension": ".py",
   "mimetype": "text/x-python",
   "name": "python",
   "nbconvert_exporter": "python",
   "pygments_lexer": "ipython3",
   "version": "3.8.5"
  }
 },
 "nbformat": 4,
 "nbformat_minor": 4
}
